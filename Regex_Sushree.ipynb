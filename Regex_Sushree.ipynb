{
 "cells": [
  {
   "cell_type": "markdown",
   "metadata": {},
   "source": [
    "### 1.search pattern brand and company if found print found else print not found"
   ]
  },
  {
   "cell_type": "code",
   "execution_count": 21,
   "metadata": {},
   "outputs": [
    {
     "name": "stdout",
     "output_type": "stream",
     "text": [
      "brand found in string text\n",
      "Company not found\n"
     ]
    }
   ],
   "source": [
    "import re\n",
    "text = 'Apple is a tech Brand, not a fruit'\n",
    "match=re.search(r\"[bB]rand\",text)\n",
    "match1=re.search(r\"company\",text)\n",
    "if match:\n",
    "    print(\"brand found in string text\")\n",
    "else:\n",
    "    print(\"Brand not found\")\n",
    "\n",
    "if match1:\n",
    "        print(\"Company found in string text\")\n",
    "else:\n",
    "    print(\"Company not found\")\n",
    "\n"
   ]
  },
  {
   "cell_type": "markdown",
   "metadata": {},
   "source": [
    "### 2.split the given text at @"
   ]
  },
  {
   "cell_type": "code",
   "execution_count": 25,
   "metadata": {},
   "outputs": [
    {
     "data": {
      "text/plain": [
       "['the list of given email are harry', 'gmail.com , ron', 'hotmail.com']"
      ]
     },
     "execution_count": 25,
     "metadata": {},
     "output_type": "execute_result"
    }
   ],
   "source": [
    "phrase = 'the list of given email are harry@gmail.com , ron@hotmail.com'\n",
    "re.split(r\"@\",phrase)"
   ]
  },
  {
   "cell_type": "markdown",
   "metadata": {},
   "source": [
    "### 3.Remove the punctation from the given sentence"
   ]
  },
  {
   "cell_type": "code",
   "execution_count": 7,
   "metadata": {},
   "outputs": [
    {
     "data": {
      "text/plain": [
       "'hi  are you doing good '"
      ]
     },
     "execution_count": 7,
     "metadata": {},
     "output_type": "execute_result"
    }
   ],
   "source": [
    "import re\n",
    "test_phrase = 'hi! are you doing good?'\n",
    "re.sub(r\"[^\\w\\s]\",\" \",test_phrase)"
   ]
  },
  {
   "cell_type": "markdown",
   "metadata": {},
   "source": [
    "### 4.write a list of test pattern having a sequence of\n",
    "* lower case letter,\n",
    "* uppercase letter,\n",
    "* lower or upper\n",
    "* and one upper case followed by lower case"
   ]
  },
  {
   "cell_type": "code",
   "execution_count": 7,
   "metadata": {},
   "outputs": [
    {
     "name": "stdout",
     "output_type": "stream",
     "text": [
      "['egex', 's', 'difficult', 'to', 'grasp', 'in', 'short', 'period', 'of', 'time']\n"
     ]
    }
   ],
   "source": [
    "test_phrase = 'Regex Is difficult to grasp in short period of time'\n",
    "print(re.findall(r\"[a-z]+\",test_phrase))"
   ]
  },
  {
   "cell_type": "code",
   "execution_count": 8,
   "metadata": {},
   "outputs": [
    {
     "name": "stdout",
     "output_type": "stream",
     "text": [
      "['R', 'I']\n"
     ]
    }
   ],
   "source": [
    "print(re.findall(r\"[A-Z]+\",test_phrase))"
   ]
  },
  {
   "cell_type": "code",
   "execution_count": 9,
   "metadata": {},
   "outputs": [
    {
     "name": "stdout",
     "output_type": "stream",
     "text": [
      "['Regex', 'Is', 'difficult', 'to', 'grasp', 'in', 'short', 'period', 'of', 'time']\n"
     ]
    }
   ],
   "source": [
    "print(re.findall(r\"[a-zA-Z]+\",test_phrase))"
   ]
  },
  {
   "cell_type": "code",
   "execution_count": 10,
   "metadata": {},
   "outputs": [
    {
     "name": "stdout",
     "output_type": "stream",
     "text": [
      "['Regex', 'Is']\n"
     ]
    }
   ],
   "source": [
    "print(re.findall(r\"[A-Z][a-z]+\",test_phrase))"
   ]
  },
  {
   "cell_type": "markdown",
   "metadata": {},
   "source": [
    "### write a list of test pattern having a sequence\n",
    "* sequence of non-digits\n",
    "* sequence of whitespace\n",
    "* sequence of non-whitespace\n",
    "* alphanumeric characters\n",
    "* non-alphanumeric\n"
   ]
  },
  {
   "cell_type": "code",
   "execution_count": 11,
   "metadata": {},
   "outputs": [
    {
     "name": "stdout",
     "output_type": "stream",
     "text": [
      "['This', 'is', 'a', 'string', 'with', 'some', 'numbers', 'and', 'a', 'symbol', '#hashtag']\n"
     ]
    }
   ],
   "source": [
    "test_phrase = 'This is a string with some numbers 1233 and a symbol #hashtag'\n",
    "print(re.findall(r\"[A-Za-z|\\#]+\",test_phrase))"
   ]
  },
  {
   "cell_type": "code",
   "execution_count": 12,
   "metadata": {},
   "outputs": [
    {
     "name": "stdout",
     "output_type": "stream",
     "text": [
      "[' ', ' ', ' ', ' ', ' ', ' ', ' ', ' ', ' ', ' ', ' ']\n"
     ]
    }
   ],
   "source": [
    "print(re.findall(r\"\\s\",test_phrase))"
   ]
  },
  {
   "cell_type": "code",
   "execution_count": 13,
   "metadata": {},
   "outputs": [
    {
     "name": "stdout",
     "output_type": "stream",
     "text": [
      "['T', 'h', 'i', 's', 'i', 's', 'a', 's', 't', 'r', 'i', 'n', 'g', 'w', 'i', 't', 'h', 's', 'o', 'm', 'e', 'n', 'u', 'm', 'b', 'e', 'r', 's', '1', '2', '3', '3', 'a', 'n', 'd', 'a', 's', 'y', 'm', 'b', 'o', 'l', '#', 'h', 'a', 's', 'h', 't', 'a', 'g']\n"
     ]
    }
   ],
   "source": [
    "print(re.findall(r\"\\S\",test_phrase))"
   ]
  },
  {
   "cell_type": "code",
   "execution_count": 14,
   "metadata": {},
   "outputs": [
    {
     "name": "stdout",
     "output_type": "stream",
     "text": [
      "['T', 'h', 'i', 's', 'i', 's', 'a', 's', 't', 'r', 'i', 'n', 'g', 'w', 'i', 't', 'h', 's', 'o', 'm', 'e', 'n', 'u', 'm', 'b', 'e', 'r', 's', '1', '2', '3', '3', 'a', 'n', 'd', 'a', 's', 'y', 'm', 'b', 'o', 'l', 'h', 'a', 's', 'h', 't', 'a', 'g']\n"
     ]
    }
   ],
   "source": [
    "#find alphanumeric characters\n",
    "print(re.findall(r\"\\w\",test_phrase))"
   ]
  },
  {
   "cell_type": "code",
   "execution_count": 15,
   "metadata": {},
   "outputs": [
    {
     "name": "stdout",
     "output_type": "stream",
     "text": [
      "[' ', ' ', ' ', ' ', ' ', ' ', ' ', ' ', ' ', ' ', ' ', '#']\n"
     ]
    }
   ],
   "source": [
    "#find non-alphanumeric characters\n",
    "print(re.findall(r\"\\W\",test_phrase))"
   ]
  },
  {
   "cell_type": "markdown",
   "metadata": {},
   "source": [
    "### 5.find the date from the given text"
   ]
  },
  {
   "cell_type": "code",
   "execution_count": 22,
   "metadata": {},
   "outputs": [
    {
     "name": "stdout",
     "output_type": "stream",
     "text": [
      "['12-12-1992']\n"
     ]
    }
   ],
   "source": [
    "import regex as re\n",
    "text=\"is your birthday in 12-12-1992\"\n",
    "print(re.findall(r\"[0-9].+\",text))"
   ]
  },
  {
   "cell_type": "markdown",
   "metadata": {},
   "source": [
    "### 6.write a regrex that find anything that start with bat"
   ]
  },
  {
   "cell_type": "code",
   "execution_count": 23,
   "metadata": {},
   "outputs": [
    {
     "name": "stdout",
     "output_type": "stream",
     "text": [
      "['batman', 'batmobile']\n"
     ]
    }
   ],
   "source": [
    "text=\"Here comes the batman in batmobile\"\n",
    "print(re.findall(r\"\\bbat\\w+\",text))"
   ]
  },
  {
   "cell_type": "markdown",
   "metadata": {},
   "source": [
    "### 7.write a regrex that find all the word that end with 'at'"
   ]
  },
  {
   "cell_type": "code",
   "execution_count": 23,
   "metadata": {},
   "outputs": [
    {
     "name": "stdout",
     "output_type": "stream",
     "text": [
      "['cat', 'hat', 'sat', 'flat', 'mat']\n"
     ]
    }
   ],
   "source": [
    "text=\"The cat in the hat sat flat on the mat.\"\n",
    "print(re.findall(r\"[a-zA-Z]+at\",text))"
   ]
  },
  {
   "cell_type": "code",
   "execution_count": 24,
   "metadata": {},
   "outputs": [
    {
     "data": {
      "text/plain": [
       "['cat', 'hat', 'sat', 'flat', 'mat']"
      ]
     },
     "execution_count": 24,
     "metadata": {},
     "output_type": "execute_result"
    }
   ],
   "source": [
    "#revised Q.7\n",
    "text=\"The cat in the hat sat flat on the mat.\"\n",
    "re.findall(r\"\\w+at\\b\",text)"
   ]
  },
  {
   "cell_type": "markdown",
   "metadata": {},
   "source": [
    "### 8.find the fistname and the last name of the person"
   ]
  },
  {
   "cell_type": "code",
   "execution_count": 22,
   "metadata": {},
   "outputs": [
    {
     "name": "stdout",
     "output_type": "stream",
     "text": [
      "['Travis', 'Baker']\n"
     ]
    }
   ],
   "source": [
    "import regex as re\n",
    "text=\"First Name: Travis Last Name: Baker\"\n",
    "print(re.findall(r\"(?<=\\Name:\\s)[A-Za-z]+\",text))\n"
   ]
  },
  {
   "cell_type": "code",
   "execution_count": 25,
   "metadata": {},
   "outputs": [
    {
     "name": "stdout",
     "output_type": "stream",
     "text": [
      "['Travis', 'Baker']\n"
     ]
    }
   ],
   "source": [
    "#revised q.8\n",
    "text=\"First Name: Travis Last Name: Baker\"\n",
    "print(re.findall(r\"(?<=\\:\\s)\\w+\",text))"
   ]
  },
  {
   "cell_type": "markdown",
   "metadata": {},
   "source": [
    "### 9.find all the words with an internal o"
   ]
  },
  {
   "cell_type": "code",
   "execution_count": 35,
   "metadata": {},
   "outputs": [
    {
     "name": "stdout",
     "output_type": "stream",
     "text": [
      "['brown', 'fox']\n"
     ]
    }
   ],
   "source": [
    "import regex as re\n",
    "text=\"the quick brown fox over \"\n",
    "print(re.findall(r\"[A-Za-z]+\\o[A-Za-z]+\",text))"
   ]
  },
  {
   "cell_type": "markdown",
   "metadata": {},
   "source": [
    "### 10.find that begin or end with o"
   ]
  },
  {
   "cell_type": "code",
   "execution_count": 29,
   "metadata": {},
   "outputs": [
    {
     "name": "stdout",
     "output_type": "stream",
     "text": [
      "['over', 'dogoo']\n"
     ]
    }
   ],
   "source": [
    "text=\"quick brown fox jumps over a lazy dogoo\"\n",
    "print(re.findall(r\"\\bo\\w+|\\w+o$\",text))"
   ]
  },
  {
   "cell_type": "markdown",
   "metadata": {},
   "source": [
    "### 11.print the answer inthe given format . hint use re.sub\n",
    "'The quick =brown= =fox= jumped =over= the lazy =dog= '"
   ]
  },
  {
   "cell_type": "code",
   "execution_count": 8,
   "metadata": {},
   "outputs": [
    {
     "data": {
      "text/plain": [
       "'the quick =brown=  =fox=  jumped =over=  the lazy =dog= '"
      ]
     },
     "execution_count": 8,
     "metadata": {},
     "output_type": "execute_result"
    }
   ],
   "source": [
    "import regex as re\n",
    "text=\"the quick brown fox jumped over the lazy dog\"\n",
    "re.sub(r'\\s(\\w*o\\w+)', r' =\\1= ', text)\n"
   ]
  },
  {
   "cell_type": "markdown",
   "metadata": {},
   "source": [
    "### 12.get the month from the given text"
   ]
  },
  {
   "cell_type": "code",
   "execution_count": 9,
   "metadata": {},
   "outputs": [
    {
     "name": "stdout",
     "output_type": "stream",
     "text": [
      "['10', '02']\n"
     ]
    }
   ],
   "source": [
    "text=\"bill gate was born in 28-10-1955 and will was born in 1-02-2000\"\n",
    "print(re.findall(r\"(?<=\\d\\-)\\d+(?=\\-\\d)\",text))"
   ]
  },
  {
   "cell_type": "markdown",
   "metadata": {},
   "source": [
    "### 13.splits before every o"
   ]
  },
  {
   "cell_type": "code",
   "execution_count": 107,
   "metadata": {},
   "outputs": [
    {
     "name": "stdout",
     "output_type": "stream",
     "text": [
      "['pyth', 'on is an ', 'object ', 'oriented langugae']\n"
     ]
    }
   ],
   "source": [
    "text=\"python is an object oriented langugae\"\n",
    "print(re.split(r\"(?=o)\",text))"
   ]
  },
  {
   "cell_type": "markdown",
   "metadata": {},
   "source": [
    "### 14.write a pattern that find dogs and dog"
   ]
  },
  {
   "cell_type": "code",
   "execution_count": 13,
   "metadata": {},
   "outputs": [
    {
     "name": "stdout",
     "output_type": "stream",
     "text": [
      "['dogs', 'dog ']\n"
     ]
    }
   ],
   "source": [
    "test_string = \"I like dogs but my dog doesn't like me.\"\n",
    "print(re.findall(r\"dog.\",test_string))"
   ]
  },
  {
   "cell_type": "markdown",
   "metadata": {},
   "source": [
    "### 15.Find all the p's and q's in the test string below."
   ]
  },
  {
   "cell_type": "code",
   "execution_count": 23,
   "metadata": {},
   "outputs": [
    {
     "name": "stdout",
     "output_type": "stream",
     "text": [
      "['Quick', 'pizzaz', 'path', 'queensland']\n"
     ]
    }
   ],
   "source": [
    "test_string = \"Quick, pizzaz shop is closing. Is this a path to queensland?\"\n",
    "print(re.findall(r\"[pq][]a-zA-Z]+\",test_string,re.I))"
   ]
  },
  {
   "cell_type": "markdown",
   "metadata": {},
   "source": [
    "### 16.find everything except t in word"
   ]
  },
  {
   "cell_type": "code",
   "execution_count": 25,
   "metadata": {},
   "outputs": [
    {
     "name": "stdout",
     "output_type": "stream",
     "text": [
      "['quick', 'brown', 'fox', 'jumped', 'over', 'lazy', 'dog']\n"
     ]
    }
   ],
   "source": [
    "test_string = 'the quick brown fox jumped over the lazy dog'\n",
    "print(re.findall(r\"\\b[A-SU-Za-su-z]+\",test_string))"
   ]
  },
  {
   "cell_type": "markdown",
   "metadata": {},
   "source": [
    "### 17.Find all the ^ characters in the following test sentence."
   ]
  },
  {
   "cell_type": "code",
   "execution_count": 26,
   "metadata": {},
   "outputs": [
    {
     "name": "stdout",
     "output_type": "stream",
     "text": [
      "['^', '^', '^', '^']\n"
     ]
    }
   ],
   "source": [
    "test_string = \"\"\"You can match the characters not listed within the class by complementing the set. \n",
    "\n",
    "This is indicated by including a ^ as the first character of the class; \n",
    "\n",
    "^ outside a character class will simply match the ^ character. \n",
    "\n",
    "For example, [^5] will match any character except 5.\"\"\"\n",
    "print(re.findall(r\"\\^\",test_string))"
   ]
  },
  {
   "cell_type": "markdown",
   "metadata": {},
   "source": [
    "### 18.Find all three digit prices in the following test sentence."
   ]
  },
  {
   "cell_type": "code",
   "execution_count": 35,
   "metadata": {},
   "outputs": [
    {
     "name": "stdout",
     "output_type": "stream",
     "text": [
      "['999', '550']\n"
     ]
    }
   ],
   "source": [
    "test_string = 'The Mac book cost over $999, while the windows system can be bought for less than $550.'\n",
    "print(re.findall(r\"\\d{3}\",test_string))"
   ]
  },
  {
   "cell_type": "markdown",
   "metadata": {},
   "source": [
    "### 19.Find all prices in the following test sentence."
   ]
  },
  {
   "cell_type": "code",
   "execution_count": 36,
   "metadata": {},
   "outputs": [
    {
     "name": "stdout",
     "output_type": "stream",
     "text": [
      "['999', '550', '1200', '2500', '30', '390']\n"
     ]
    }
   ],
   "source": [
    "test_string = \"\"\"The iPhone X costs over $999, while the Android cost around $550.\n",
    "\n",
    "Apple's MacBook Pro costs $1200, while razer blade cost $2500.\n",
    "\n",
    "A new charger for iphone cost over $30.\n",
    "\n",
    "Bose headphone cost around $390\n",
    "\n",
    "\"\"\"\n",
    "print(re.findall(r\"\\d+\",test_string))"
   ]
  },
  {
   "cell_type": "markdown",
   "metadata": {},
   "source": [
    "### 20.find all the better in the given text"
   ]
  },
  {
   "cell_type": "code",
   "execution_count": 45,
   "metadata": {},
   "outputs": [
    {
     "name": "stdout",
     "output_type": "stream",
     "text": [
      "['better', 'better', 'better', 'better', 'better', 'better', 'better', 'better']\n"
     ]
    }
   ],
   "source": [
    "robot_string = '''The Zen of Python, by Tim Peters\n",
    "\n",
    "Beautiful is better than ugly.\n",
    "Explicit is better than implicit.\n",
    "Simple is better than complex.\n",
    "Complex is better than complicated.\n",
    "Flat is better than nested.\n",
    "Sparse is better than dense.\n",
    "Readability counts.\n",
    "Special cases aren't special enough to break the rules.\n",
    "Although practicality beats purity.\n",
    "Errors should never pass silently.\n",
    "Unless explicitly silenced.\n",
    "In the face of ambiguity, refuse the temptation to guess.\n",
    "There should be one-- and preferably only one --obvious way to do it.\n",
    "Although that way may not be obvious at first unless you're Dutch.\n",
    "Now is better than never.\n",
    "Although never is often better than *right* now.\n",
    "If the implementation is hard to explain, it's a bad idea.\n",
    "If the implementation is easy to explain, it may be a good idea.\n",
    "Namespaces are one honking great idea -- let's do more of those!\n",
    "'''\n",
    "print(re.findall(r\"better\",robot_string))"
   ]
  },
  {
   "cell_type": "markdown",
   "metadata": {},
   "source": [
    "### 21.find the word that start with bat and end with man"
   ]
  },
  {
   "cell_type": "code",
   "execution_count": 46,
   "metadata": {},
   "outputs": [
    {
     "name": "stdout",
     "output_type": "stream",
     "text": [
      "['batwoman']\n"
     ]
    }
   ],
   "source": [
    "test_string = 'Batman is the best movies, batwoman never herad about it.'\n",
    "print(re.findall(r\"bat[a-zA-Z]*man\",test_string))"
   ]
  },
  {
   "cell_type": "markdown",
   "metadata": {},
   "source": [
    "### 22.remove the year form the given list"
   ]
  },
  {
   "cell_type": "code",
   "execution_count": 14,
   "metadata": {},
   "outputs": [
    {
     "name": "stdout",
     "output_type": "stream",
     "text": [
      "Another You \n"
     ]
    }
   ],
   "source": [
    "str=\"Another You (1991-2000)\"\n",
    "print(re.sub(r\"\\(\\d+-\\d+\\)\",\"\",str))"
   ]
  },
  {
   "cell_type": "markdown",
   "metadata": {},
   "source": [
    "### 23.write a regex to find the url_name only"
   ]
  },
  {
   "cell_type": "code",
   "execution_count": 31,
   "metadata": {},
   "outputs": [
    {
     "name": "stdout",
     "output_type": "stream",
     "text": [
      "['http://www.google-map.com']\n"
     ]
    }
   ],
   "source": [
    "name=\"http://www.google-map.com\"\n",
    "print(re.findall(r\"http://[a-z]+.[a-z]+-[a-z]+.com\",name))"
   ]
  },
  {
   "cell_type": "markdown",
   "metadata": {},
   "source": [
    "### 24.use regrex to find the size of the screen"
   ]
  },
  {
   "cell_type": "code",
   "execution_count": 38,
   "metadata": {},
   "outputs": [
    {
     "name": "stdout",
     "output_type": "stream",
     "text": [
      "['39,6 cm', '15,6 Zoll', '15,6 Zoll', '13\"', '17,3 Zoll']\n"
     ]
    }
   ],
   "source": [
    "import regex as re\n",
    "doc=[\"Lenovo IdeaPad S145 Laptop 39,6 cm (15,6 Zoll, 1920x1080, FHD, matt) Slim Notebook (Intel Pentium N5000, 8 GB RAM, 512 GB SSD, Intel UHD-Grafik 605, Windows 10 Home) schwarz\",\n",
    "\"HP Notebook (15,6 Zoll), HD Display, AMD A4 2 x 2.50 GHz, 8 GB RAM, 256 GB SSD, HDMI, AMD R3 Grafik, Webcam, Windows 10 Pro\",\n",
    "'Neu Apple MacBook Air (13\", 1,1 GHz dual-core Intel Core i3 Prozessor der 10. Generation, 8 GB RAM, 256 GB) - Silber',\n",
    "'Lenovo (17,3 Zoll) Notebook (Intel Pentium 5405U 4-Thread CPU, 2.30 GHz, 8GB DDR4 RAM, 256GB SSD, 1000GB, DVD±RW, Intel HD, HDMI, Webcam, Bluetooth, USB3.0, WLAN, Win 10 Prof. 64, MS Office) #6477'\n",
    "]\n",
    "doc_new=\"\"\n",
    "doc_new=\" \".join(doc)\n",
    "print(re.findall(r\"(\\d.\\,\\d\\s\\w+|\\d.\\\")\",doc_new))\n"
   ]
  },
  {
   "cell_type": "code",
   "execution_count": null,
   "metadata": {},
   "outputs": [],
   "source": []
  },
  {
   "cell_type": "markdown",
   "metadata": {},
   "source": [
    "#### use regrex to find the type of laptop eg: notebook"
   ]
  },
  {
   "cell_type": "code",
   "execution_count": 39,
   "metadata": {},
   "outputs": [
    {
     "name": "stdout",
     "output_type": "stream",
     "text": [
      "['Notebook', 'Notebook', 'MacBook', 'Notebook']\n"
     ]
    }
   ],
   "source": [
    "print(re.findall(r\"\\b[A-Z][a-z].[A-Za-z]+ok\",doc_new))"
   ]
  },
  {
   "cell_type": "markdown",
   "metadata": {},
   "source": [
    "#### find the type of display"
   ]
  },
  {
   "cell_type": "code",
   "execution_count": 41,
   "metadata": {},
   "outputs": [
    {
     "name": "stdout",
     "output_type": "stream",
     "text": [
      "['FHD', ' HD']\n"
     ]
    }
   ],
   "source": [
    "print(re.findall(r\"\\b[^U]HD\\b\",doc_new))"
   ]
  },
  {
   "cell_type": "markdown",
   "metadata": {},
   "source": [
    "#### find the disk capacity size"
   ]
  },
  {
   "cell_type": "code",
   "execution_count": 102,
   "metadata": {},
   "outputs": [
    {
     "name": "stdout",
     "output_type": "stream",
     "text": [
      "['512 GB', '256 GB', '256 GB', '256GB']\n"
     ]
    }
   ],
   "source": [
    "print(re.findall(r\"\\d..\\s[A-Z]B|\\d..[A-Z]B(?=\\s)\",doc_new))"
   ]
  },
  {
   "cell_type": "code",
   "execution_count": 42,
   "metadata": {},
   "outputs": [
    {
     "data": {
      "text/plain": [
       "[{'screen_size': '15,6',\n",
       "  'type_laptop': 'Notebook',\n",
       "  'type_display': 'FHD',\n",
       "  'disk_capacity': ['512 GB']},\n",
       " {'screen_size': '15,6',\n",
       "  'type_laptop': 'Notebook',\n",
       "  'type_display': 'HD',\n",
       "  'disk_capacity': ['256 GB']},\n",
       " {'screen_size': '13',\n",
       "  'type_laptop': 'MacBook',\n",
       "  'type_display': None,\n",
       "  'disk_capacity': ['256 GB']},\n",
       " {'screen_size': '17,3',\n",
       "  'type_laptop': 'Notebook',\n",
       "  'type_display': 'HD',\n",
       "  'disk_capacity': ['256GB', '1000GB']}]"
      ]
     },
     "execution_count": 42,
     "metadata": {},
     "output_type": "execute_result"
    }
   ],
   "source": [
    "#by dipro\n",
    "ans = lambda x: {'screen_size' : re.search(r\"(?!\\()\\S+((?=\\sZoll\\b)|(?=\\\"))\", x).group(),\n",
    "                'type_laptop' : re.search(r\"\\w+(b|B)ook\", x).group(),\n",
    "                'type_display' : re.search(r\"\\w*HD\",x).group() if re.search(r\"\\w*HD\",x)!=None else None,\n",
    "                'disk_capacity' : re.findall(r\"(\\d{2,4}\\s*GB\\b)\",x)}\n",
    "\n",
    "list(map(ans,doc))\n"
   ]
  },
  {
   "cell_type": "markdown",
   "metadata": {},
   "source": [
    "### 25.write a expressoion to get a name and phonenumber for the person whose name start with j and end with neu"
   ]
  },
  {
   "cell_type": "code",
   "execution_count": 43,
   "metadata": {},
   "outputs": [
    {
     "name": "stdout",
     "output_type": "stream",
     "text": [
      "['Jack Neu 555-7666', 'Jeb Neu 555-5543', 'Jennifer Neu 555-3652']\n"
     ]
    }
   ],
   "source": [
    "phones=\"\"\"Earn Cash For Your Teeth 555-6312\n",
    "Family Therapy Center 555-HUGS\n",
    "Homer Jay Simpson (Plow King episode) 555-3223\n",
    "Homer Jay Simpson (work) 555-7334\n",
    "Jack Neu 555-7666\n",
    "Jeb Neu 555-5543\n",
    "Jennifer Neu 555-3652\n",
    "Ken Neu 555-8752\n",
    "Lionel Putz 555-5299\n",
    "MAD Magazine 555-8628\n",
    "Marital Street Hotline 555-1680\n",
    "Marvin Monroe 555-3700\n",
    "Marvin Monroe's radio therapy show 555-PAIN\n",
    "Moe Szyslak (phone number spells SMITHERS) 7648-4377\n",
    "Moe Szyslak 555-0000\n",
    "Moe's Tavern 555-1239\n",
    "Mr. Plow 555-3226\"\"\"\n",
    "print(re.findall(r\"[Jj].+[Nn]eu\\s\\d.+\",phones))"
   ]
  },
  {
   "cell_type": "markdown",
   "metadata": {},
   "source": [
    "### 26.from the given input find the month either feb or feburary and the year\n",
    "* output[('February', '2011'), ('Feb', '2012'), ('Feb', '2016')]"
   ]
  },
  {
   "cell_type": "code",
   "execution_count": 19,
   "metadata": {},
   "outputs": [
    {
     "name": "stdout",
     "output_type": "stream",
     "text": [
      "[('February', '2011'), ('Feb', '2012'), ('Feb', '2016')]\n"
     ]
    }
   ],
   "source": [
    "import re\n",
    "year=\" February 2011 and Feb 2012 was the worst year the Feb 2016\"\n",
    "year_new=\"\"\n",
    "year_new=\" \".join((re.findall(r\"[Ff][a-z]+\\s\\d+\",year)))\n",
    "year_new=year_new.split()\n",
    "it_new=iter(year_new)\n",
    "d=list(zip(it_new,it_new))\n",
    "print(d)"
   ]
  },
  {
   "cell_type": "markdown",
   "metadata": {},
   "source": [
    "### 27.from the given tag get the text as:\n",
    "* composer:  steven wilson \n",
    "* author:  wilson \n",
    "* city:  kingston \n",
    "* band: porcupine tree\n",
    "* song: Yellow Hedgerow Dreamscape"
   ]
  },
  {
   "cell_type": "code",
   "execution_count": 44,
   "metadata": {},
   "outputs": [
    {
     "data": {
      "text/plain": [
       "{'composer': 'steven wilson',\n",
       " 'author': 'wilson',\n",
       " 'city': 'kingston',\n",
       " 'band': 'porcupine tree',\n",
       " 'song': 'Yellow Hedgerow Dreamscape'}"
      ]
     },
     "execution_count": 44,
     "metadata": {},
     "output_type": "execute_result"
    }
   ],
   "source": [
    "a=\"\"\"<composer> steven wilson </composer>\n",
    "    <author> wilson </author>\n",
    "    <city> kingston </city>\n",
    "    <band>porcupine tree</band>\n",
    "    <song>Yellow Hedgerow Dreamscape</song>\"\"\"\n",
    "a1=re.findall(r\"(?<=\\<)[a-z]+\",a)\n",
    "a2=re.findall(r\"(?<=\\>)[A-Za-z]+\\s[a-zA-Z]+\\s[A-Z]\\w+|(?<=\\>)[a-z]+\\s\\w+|(?<=\\s)\\w+\\s[a-z]+|(?<=\\s)[a-z]+\",a)\n",
    "dict(zip(a1,a2))"
   ]
  },
  {
   "cell_type": "markdown",
   "metadata": {},
   "source": [
    "### 28.from the given list of string print get the output as\n",
    "* Allison Neu 99-12332-213123\n",
    "* Lionel Messi 123-5435-453534\n",
    "* Mark zukerberg 555-5299-32\n",
    "* Homer Jay Simpson 55-7334-324\n",
    "\n",
    "using regex hint: user a grouping from re.search method"
   ]
  },
  {
   "cell_type": "code",
   "execution_count": 45,
   "metadata": {},
   "outputs": [],
   "source": [
    "l = [\"99-12332-213123 Neu, Allison\", \n",
    "     \" 123-5435-453534 Messi, Lionel\", \n",
    "     \"555-5299-32 zukerberg, Mark\",\n",
    "     \"55-7334-324 Simpson, Homer Jay\"]\n",
    "l1=\"\"\n",
    "li=\" \".join(l)\n",
    "l1=re.findall(r\"\\b[A-Z]\\w+\\s[A-Z]\\w+|\\b[A-Z]\\w+(?=\\s)\",li)\n",
    "l2=re.findall(r\"\\b[A-Za-z]\\w+(?=\\,)\",li)\n",
    "l3=re.findall(r\"\\b\\d+-\\d+-\\d+\",li)\n",
    "l4=tuple(zip(l1,l2,l3))"
   ]
  },
  {
   "cell_type": "code",
   "execution_count": 210,
   "metadata": {},
   "outputs": [
    {
     "data": {
      "text/plain": [
       "(('Allison', 'Neu', '99-12332-213123'),\n",
       " ('Lionel', 'Messi', '123-5435-453534'),\n",
       " ('Mark', 'zukerberg', '555-5299-32'),\n",
       " ('Homer Jay', 'Simpson', '55-7334-324'))"
      ]
     },
     "execution_count": 210,
     "metadata": {},
     "output_type": "execute_result"
    }
   ],
   "source": [
    "l4"
   ]
  },
  {
   "cell_type": "code",
   "execution_count": 46,
   "metadata": {},
   "outputs": [
    {
     "name": "stdout",
     "output_type": "stream",
     "text": [
      "Allison Neu 99-12332-213123\n",
      "Lionel Messi 123-5435-453534\n",
      "Mark zukerberg 555-5299-32\n",
      "Homer Jay Simpson 55-7334-324\n"
     ]
    }
   ],
   "source": [
    "#another method to solve Q.28\n",
    "l = [\"99-12332-213123 Neu, Allison\", \n",
    "     \" 123-5435-453534 Messi, Lionel\", \n",
    "     \"555-5299-32 zukerberg, Mark\",\n",
    "     \"55-7334-324 Simpson, Homer Jay\"]\n",
    "for i in l:\n",
    "    li9=re.search(r\"([0-9-]+)\\s([A-Za-z]+)\\,\\s([A-Z].*)\",i)\n",
    "    print(li9.group(3)+\" \"+li9.group(2)+\" \"+li9.group(1))"
   ]
  },
  {
   "cell_type": "markdown",
   "metadata": {},
   "source": [
    "### 29.from the given string use a named capturing group to get the the hour,min,sec ."
   ]
  },
  {
   "cell_type": "code",
   "execution_count": 47,
   "metadata": {},
   "outputs": [
    {
     "name": "stdout",
     "output_type": "stream",
     "text": [
      "hour is 12\n",
      "minute is 48\n",
      "second is 13\n"
     ]
    }
   ],
   "source": [
    "s = \"Sun Oct 14 12:48:13 CEST 2021\"\n",
    "s1=re.search(r\"\\b(\\d\\d):(\\d.):(\\d\\d)\",s)\n",
    "print(\"hour is\" ,s1.group(1))\n",
    "print(\"minute is\" ,s1.group(2))\n",
    "print(\"second is\" ,s1.group(3))"
   ]
  },
  {
   "cell_type": "markdown",
   "metadata": {},
   "source": [
    "### 30.from the given string get the cities name only and append it in a list"
   ]
  },
  {
   "cell_type": "code",
   "execution_count": 49,
   "metadata": {},
   "outputs": [
    {
     "name": "stdout",
     "output_type": "stream",
     "text": [
      "['Berlin', 'Hamburg', 'München', 'Köln', 'Frankfurt', 'Essen', 'Dortmund', 'Stuttgart', 'Düsseldorf', 'Bremen', 'Hannover', 'Duisburg', 'Leipzig', 'Nürnberg', 'Dresden', 'Bochum', 'Wuppertal', 'Bielefeld', 'Mannheim']\n"
     ]
    }
   ],
   "source": [
    "cities=\"\"\"1.  Berlin          3.382.169 Berlin\n",
    "2.  Hamburg         1.715.392 Hamburg\n",
    "3.  München         1.210.223 Bayern\n",
    "4.  Köln              962.884 Nordrhein-Westfalen\n",
    "5.  Frankfurt am Main 646.550 Hessen\n",
    "6.  Essen             595.243 Nordrhein-Westfalen\n",
    "7.  Dortmund          588.994 Nordrhein-Westfalen\n",
    "8.  Stuttgart         583.874 Baden-Württemberg\n",
    "9.  Düsseldorf        569.364 Nordrhein-Westfalen\n",
    "10. Bremen            539.403 Bremen\n",
    "11. Hannover          515.001 Niedersachsen\n",
    "12. Duisburg          514.915 Nordrhein-Westfalen\n",
    "13. Leipzig           493.208 Sachsen\n",
    "14. Nürnberg          488.400 Bayern\n",
    "15. Dresden           477.807 Sachsen\n",
    "16. Bochum            391.147 Nordrhein-Westfalen\n",
    "17. Wuppertal         366.434 Nordrhein-Westfalen\n",
    "18. Bielefeld         321.758 Nordrhein-Westfalen\n",
    "19. Mannheim          306.729 Baden-Württemberg\"\"\"\n",
    "\n",
    "\n",
    "new=re.findall(r\"\\b(\\d+\\.)\\s+([A-Z][a-zöü]*)\",cities)\n",
    "new1=[]\n",
    "for i in range(len(new)):\n",
    "    new1.append(new[i][1])\n",
    "print(new1)"
   ]
  },
  {
   "cell_type": "code",
   "execution_count": 50,
   "metadata": {},
   "outputs": [
    {
     "name": "stdout",
     "output_type": "stream",
     "text": [
      "Baden\n",
      "Bayern\n",
      "Berlin\n",
      "Bielefeld\n",
      "Bochum\n",
      "Bremen\n",
      "Dortmund\n",
      "Dresden\n",
      "Duisburg\n",
      "Düsseldorf\n",
      "Essen\n",
      "Frankfurt\n",
      "Hamburg\n",
      "Hannover\n",
      "Hessen\n",
      "Köln\n",
      "Leipzig\n",
      "Main\n",
      "Mannheim\n",
      "München\n",
      "Niedersachsen\n",
      "Nordrhein\n",
      "Nürnberg\n",
      "Sachsen\n",
      "Stuttgart\n",
      "Westfalen\n",
      "Wuppertal\n",
      "Württemberg\n",
      "am\n"
     ]
    }
   ],
   "source": [
    "#another way for Q.30\n",
    "cities_name=re.findall(r\"(?!\\d+)\\w+|(?!\\d+)\\w+\\s\\w+\\s\\w+\",cities)\n",
    "output=sorted(list(set(cities_name)))\n",
    "for i in output:\n",
    "    print(i)"
   ]
  },
  {
   "cell_type": "markdown",
   "metadata": {},
   "source": [
    "### 31.open a file code.txt and search for all the city and post code in the a text file .\n",
    "use context manager (with ) keyword to open file\n",
    "since the same city will have a many postal code\n",
    "create a dictionary where it will add all the postal code of the same city eg: ```` ' Aachen': {' 52070 ', ' 52074 ', ' 52066 ', ' 52072 ', ' 52064 ', ' 52068 ', ' 52080 ', ' 52076 ', ' 52078 ', ' 52062 '}, ``` output: use the question above to get the top 19 cities postal code only."
   ]
  },
  {
   "cell_type": "code",
   "execution_count": 52,
   "metadata": {},
   "outputs": [
    {
     "name": "stdout",
     "output_type": "stream",
     "text": [
      "1 . City : Berlin \n",
      " Postal Codes: \n",
      " ['10115', '10117', '10119', '10178', '10179', '10243', '10245', '10247', '10249', '10315', '10317', '10318', '10319', '10365', '10367', '10369', '10405', '10407', '10409', '10435', '10437', '10439', '10551', '10553', '10555', '10557', '10559', '10585', '10587', '10589', '10623', '10625', '10627', '10629', '10707', '10709', '10711', '10713', '10715', '10717', '10719', '10777', '10779', '10781', '10783', '10785', '10787', '10789', '10823', '10825', '10827', '10829', '10961', '10963', '10965', '10967', '10969', '10997', '10999', '12043', '12045', '12047', '12049', '12051', '12053', '12055', '12057', '12059', '12099', '12101', '12103', '12105', '12107', '12109', '12157', '12159', '12161', '12163', '12165', '12167', '12169', '12203', '12205', '12207', '12209', '12247', '12249', '12277', '12279', '12305', '12307', '12309', '12347', '12349', '12351', '12353', '12355', '12357', '12359', '12435', '12437', '12439', '12459', '12487', '12489', '12524', '12526', '12527', '12555', '12557', '12559', '12587', '12589', '12619', '12621', '12623', '12627', '12629', '12679', '12681', '12683', '12685', '12687', '12689', '13051', '13053', '13055', '13057', '13059', '13086', '13088', '13089', '13125', '13127', '13129', '13156', '13158', '13159', '13187', '13189', '13347', '13349', '13351', '13353', '13355', '13357', '13359', '13403', '13405', '13407', '13409', '13435', '13437', '13439', '13465', '13467', '13469', '13503', '13505', '13507', '13509', '13581', '13583', '13585', '13587', '13589', '13591', '13593', '13595', '13597', '13599', '13627', '13629', '14050', '14052', '14053', '14055', '14057', '14059', '14089', '14109', '14129', '14163', '14165', '14167', '14169', '14193', '14195', '14197', '14199']\n",
      "2 . City : Berlin \n",
      " Postal Codes: \n",
      " ['10115', '10117', '10119', '10178', '10179', '10243', '10245', '10247', '10249', '10315', '10317', '10318', '10319', '10365', '10367', '10369', '10405', '10407', '10409', '10435', '10437', '10439', '10551', '10553', '10555', '10557', '10559', '10585', '10587', '10589', '10623', '10625', '10627', '10629', '10707', '10709', '10711', '10713', '10715', '10717', '10719', '10777', '10779', '10781', '10783', '10785', '10787', '10789', '10823', '10825', '10827', '10829', '10961', '10963', '10965', '10967', '10969', '10997', '10999', '12043', '12045', '12047', '12049', '12051', '12053', '12055', '12057', '12059', '12099', '12101', '12103', '12105', '12107', '12109', '12157', '12159', '12161', '12163', '12165', '12167', '12169', '12203', '12205', '12207', '12209', '12247', '12249', '12277', '12279', '12305', '12307', '12309', '12347', '12349', '12351', '12353', '12355', '12357', '12359', '12435', '12437', '12439', '12459', '12487', '12489', '12524', '12526', '12527', '12555', '12557', '12559', '12587', '12589', '12619', '12621', '12623', '12627', '12629', '12679', '12681', '12683', '12685', '12687', '12689', '13051', '13053', '13055', '13057', '13059', '13086', '13088', '13089', '13125', '13127', '13129', '13156', '13158', '13159', '13187', '13189', '13347', '13349', '13351', '13353', '13355', '13357', '13359', '13403', '13405', '13407', '13409', '13435', '13437', '13439', '13465', '13467', '13469', '13503', '13505', '13507', '13509', '13581', '13583', '13585', '13587', '13589', '13591', '13593', '13595', '13597', '13599', '13627', '13629', '14050', '14052', '14053', '14055', '14057', '14059', '14089', '14109', '14129', '14163', '14165', '14167', '14169', '14193', '14195', '14197', '14199']\n",
      "3 . City : Hamburg \n",
      " Postal Codes: \n",
      " ['20095', '20097', '20099', '20144', '20146', '20148', '20149', '20249', '20251', '20253', '20255', '20257', '20259', '20354', '20355', '20357', '20359', '20457', '20459', '20535', '20537', '20539', '21029', '21031', '21033', '21035', '21037', '21039', '21073', '21075', '21077', '21079', '21107', '21109', '21129', '21147', '21149', '22041', '22043', '22045', '22047', '22049', '22081', '22083', '22085', '22087', '22089', '22111', '22113', '22115', '22117', '22119', '22143', '22145', '22147', '22149', '22159', '22175', '22177', '22179', '22297', '22299', '22301', '22303', '22305', '22307', '22309', '22335', '22337', '22339', '22359', '22391', '22393', '22395', '22397', '22399', '22415', '22417', '22419', '22453', '22455', '22457', '22459', '22523', '22525', '22527', '22529', '22547', '22549', '22559', '22587', '22589', '22605', '22607', '22609', '22761', '22763', '22765', '22767', '22769', '27499']\n",
      "4 . City : Hamburg \n",
      " Postal Codes: \n",
      " ['20095', '20097', '20099', '20144', '20146', '20148', '20149', '20249', '20251', '20253', '20255', '20257', '20259', '20354', '20355', '20357', '20359', '20457', '20459', '20535', '20537', '20539', '21029', '21031', '21033', '21035', '21037', '21039', '21073', '21075', '21077', '21079', '21107', '21109', '21129', '21147', '21149', '22041', '22043', '22045', '22047', '22049', '22081', '22083', '22085', '22087', '22089', '22111', '22113', '22115', '22117', '22119', '22143', '22145', '22147', '22149', '22159', '22175', '22177', '22179', '22297', '22299', '22301', '22303', '22305', '22307', '22309', '22335', '22337', '22339', '22359', '22391', '22393', '22395', '22397', '22399', '22415', '22417', '22419', '22453', '22455', '22457', '22459', '22523', '22525', '22527', '22529', '22547', '22549', '22559', '22587', '22589', '22605', '22607', '22609', '22761', '22763', '22765', '22767', '22769', '27499']\n"
     ]
    },
    {
     "ename": "KeyError",
     "evalue": "'München'",
     "output_type": "error",
     "traceback": [
      "\u001b[1;31m---------------------------------------------------------------------------\u001b[0m",
      "\u001b[1;31mKeyError\u001b[0m                                  Traceback (most recent call last)",
      "\u001b[1;32m<ipython-input-52-bc425ebed656>\u001b[0m in \u001b[0;36m<module>\u001b[1;34m\u001b[0m\n\u001b[0;32m     11\u001b[0m     \u001b[0mi\u001b[0m \u001b[1;33m=\u001b[0m \u001b[1;36m1\u001b[0m\u001b[1;33m\u001b[0m\u001b[1;33m\u001b[0m\u001b[0m\n\u001b[0;32m     12\u001b[0m \u001b[1;32mfor\u001b[0m \u001b[0mcity\u001b[0m \u001b[1;32min\u001b[0m \u001b[0mcities_name\u001b[0m\u001b[1;33m:\u001b[0m\u001b[1;33m\u001b[0m\u001b[1;33m\u001b[0m\u001b[0m\n\u001b[1;32m---> 13\u001b[1;33m     \u001b[0mprint\u001b[0m\u001b[1;33m(\u001b[0m\u001b[0mi\u001b[0m\u001b[1;33m,\u001b[0m \u001b[1;34m\".\"\u001b[0m\u001b[1;33m,\u001b[0m \u001b[1;34m\"City :\"\u001b[0m\u001b[1;33m,\u001b[0m \u001b[0mcity\u001b[0m\u001b[1;33m,\u001b[0m \u001b[1;34m\"\\n Postal Codes: \\n\"\u001b[0m\u001b[1;33m,\u001b[0m \u001b[0mcities_dict\u001b[0m\u001b[1;33m[\u001b[0m\u001b[0mcity\u001b[0m\u001b[1;33m]\u001b[0m\u001b[1;33m)\u001b[0m\u001b[1;33m\u001b[0m\u001b[1;33m\u001b[0m\u001b[0m\n\u001b[0m\u001b[0;32m     14\u001b[0m     \u001b[0mi\u001b[0m \u001b[1;33m+=\u001b[0m \u001b[1;36m1\u001b[0m\u001b[1;33m\u001b[0m\u001b[1;33m\u001b[0m\u001b[0m\n",
      "\u001b[1;31mKeyError\u001b[0m: 'München'"
     ]
    }
   ],
   "source": [
    "import re\n",
    "with open('code.txt') as f:\n",
    "    data = f.read()\n",
    "cit_postal = re.findall(r\"\\d+\\s(?P<city>\\D+)\\s(?P<postal>\\d+)\", data)\n",
    "cities_dict = {}\n",
    "for i, j in cit_postal:\n",
    "    if i not in cities_dict.keys():\n",
    "        cities_dict.update({i: [j]})\n",
    "    else:\n",
    "        cities_dict[i].append(j)\n",
    "    i = 1\n",
    "for city in cities_name:\n",
    "    print(i, \".\", \"City :\", city, \"\\n Postal Codes: \\n\", cities_dict[city])\n",
    "    i += 1"
   ]
  },
  {
   "cell_type": "markdown",
   "metadata": {},
   "source": [
    "### 32.write a program that recoginzes the postal code or not\n",
    "https://en.wikipedia.org/wiki/Postcodes_in_the_United_Kingdom#:~:text=The%20outward%20code%20includes%20the,%2C%20and%20%22L1%208JQ%22.\n",
    "\n",
    "eg: ``` N1 9GU matched! E98 1TT matched! TIM E22 is not a valid postcode! A B1 A22 is not a valid postcode! EC2N 2DB matched!"
   ]
  },
  {
   "cell_type": "code",
   "execution_count": 53,
   "metadata": {},
   "outputs": [
    {
     "name": "stdout",
     "output_type": "stream",
     "text": [
      "SW1A 0AA is matched code.\n",
      "BS40 5AA  is matched code.\n",
      "CB6 1AA is matched code.\n",
      "CB2 1TN is matched code.\n",
      "SW1A 1AA is matched code.\n",
      "SW1A 2AA is matched code.\n",
      "DH98 1BT is matched code.\n",
      "OX1 2JD is matched code.\n",
      "N1 9GU is matched code.\n",
      "E98 1TT is matched code.\n",
      "TIM E22 is a fake code.\n",
      "A B1 A22 is not a valid postcode.\n",
      "EC2N 2DB is matched code.\n",
      "SE9 2UG is matched code.\n",
      "N1 0UY is matched code.\n",
      "EC1V 8DS is matched code.\n",
      "WC1X 9DT is matched code.\n",
      "B42 1LG is matched code.\n",
      "B28 9AD is matched code.\n",
      "W12 7RJ is matched code.\n",
      "BBC 017 is a fake code.\n",
      "JAM 001 is a fake code.\n",
      "BD7 1DP is matched code.\n",
      "JCK 4DA is not a valid code.\n"
     ]
    }
   ],
   "source": [
    "codes = [\"SW1A 0AA\", # House of Commons\n",
    "                \"BS40 5AA \", # bristol\n",
    "                \"CB6 1AA\",#cambridge\n",
    "                \"CB2 1TN\",#cambdrige uni\n",
    "                 \"SW1A 1AA\", # Buckingham Palace\n",
    "                 \"SW1A 2AA\", # Downing Street\n",
    "                 \"DH98 1BT\", # British Telecom\n",
    "                 \"OX1 2JD\",#oxford\n",
    "                 \"N1 9GU\", # Guardian Newspaper\n",
    "                 \"E98 1TT\", # The Times\n",
    "                 \"TIM E22\", # a fake postcode\n",
    "                 \"A B1 A22\", # not a valid postcode\n",
    "                 \"EC2N 2DB\", # Deutsche Bank\n",
    "                 \"SE9 2UG\", # University of Greenwhich\n",
    "                 \"N1 0UY\", # Islington, London\n",
    "                 \"EC1V 8DS\", # Clerkenwell, London\n",
    "                 \"WC1X 9DT\", # WC1X 9DT\n",
    "                 \"B42 1LG\", # Birmingham\n",
    "                 \"B28 9AD\", # Birmingham\n",
    "                 \"W12 7RJ\", # London, BBC News Centre\n",
    "                 \"BBC 017\" ,# a fake postcode\n",
    "                 \"JAM 001\", #fake\n",
    "                 \"BD7 1DP\",#bradford uni\n",
    "                 \"JCK 4DA\", #not valid\n",
    "                 \n",
    "                ]\n",
    "for i in codes:\n",
    "    if re.search(r\"\\b[0-9][A-Z][A-Z]\",i):\n",
    "        if re.search(r\"\\b[A-Z]1|\\b[A-Z].\\d[A-Z0-9]|\\b[A-Z]\\d.|\\b[A-Z].\\d\",i):\n",
    "            print(f\"{i} is matched code.\")\n",
    "        else:\n",
    "            print(f\"{i} is not a valid code.\")\n",
    "    else:\n",
    "        if re.search(r\"\\b[A-Z][A-Z].\",i):\n",
    "            print(f\"{i} is a fake code.\")\n",
    "        else:\n",
    "            print(f\"{i} is not a valid postcode.\")\n",
    "        "
   ]
  },
  {
   "cell_type": "markdown",
   "metadata": {},
   "source": [
    "### 33.write a expression to get first name , last name and position\n",
    "hint:you can use re.split"
   ]
  },
  {
   "cell_type": "code",
   "execution_count": 55,
   "metadata": {},
   "outputs": [
    {
     "name": "stdout",
     "output_type": "stream",
     "text": [
      "Donald Trump -ex.president\n",
      "Angela Merkel -chancellor\n",
      "joe Biden -president\n",
      "elon musk -enturperuner\n"
     ]
    }
   ],
   "source": [
    "lines = [\"surname: Trump, prename: Donald, profession: ex.president\", \n",
    "\"surname: Merkel, prename: Angela, profession: chancellor\",\n",
    "\"surname: Biden, prename: joe, profession: president\",\n",
    "\"surname: musk, prename: elon, profession: enturperuner\"]\n",
    "for i in lines:\n",
    "    lines2=re.search(r\"surname:\\s([A-Za-z]*),\\sprename:\\s([A-Za-z]+)..profession:\\s([a-z].\\.[a-z]+|[a-z]+)\",i)\n",
    "    lines4=lines2.group(2)+\" \"+lines2.group(1)+\" \"+\"-\"+lines2.group(3)\n",
    "    print(lines4)"
   ]
  },
  {
   "cell_type": "code",
   "execution_count": 57,
   "metadata": {},
   "outputs": [
    {
     "name": "stdout",
     "output_type": "stream",
     "text": [
      "[' Trump', ' Donald', ' ex.president']\n",
      "[' Merkel', ' Angela', ' chancellor']\n",
      "[' Biden', ' joe', ' president']\n",
      "[' musk', ' elon', ' enturperuner']\n"
     ]
    }
   ],
   "source": [
    "#another way for Q32.\n",
    "for i in lines:\n",
    "    result=re.split(r\",* *\\w*:\",i)\n",
    "    print(result[1:])"
   ]
  },
  {
   "cell_type": "markdown",
   "metadata": {},
   "source": [
    "### 34.from a given text write a expression to get the\n",
    "1289,T83456\n",
    " \n",
    "1289,Z22334\n",
    " \n",
    "1205,T10032\n",
    " \n",
    "1205,B77301\n",
    " \n",
    "1205,T10786\n",
    " \n",
    "1205,C77502\n",
    " \n",
    "1410,K34001\n",
    " \n",
    "1410,T98987"
   ]
  },
  {
   "cell_type": "code",
   "execution_count": 30,
   "metadata": {},
   "outputs": [
    {
     "name": "stdout",
     "output_type": "stream",
     "text": [
      "1111,T93923\n",
      "1111,T93923\n",
      "1223,B71313\n",
      "1223,T10321\n",
      "1223,T10786\n",
      "1225,C77502\n",
      "1289,Z22334\n",
      "1289,Z22334\n",
      "1410,K34001\n",
      "1410,T98987\n"
     ]
    }
   ],
   "source": [
    "text=\"\"\"customer-id 1111\n",
    "T93923\n",
    "customer-id 1111\n",
    "customer-id 1223\n",
    "T10321\n",
    "B71313\n",
    "customer-id 1223\n",
    "customer-id 1410\n",
    "K34001\n",
    "T98987\n",
    "customer-id 1410\n",
    "customer-id 1223\n",
    "T10786\n",
    "C77502\n",
    "customer-id 1225\n",
    "customer-id 1289\n",
    "Z22334\n",
    "customer-id 1289\"\"\"\n",
    "re1 = re.findall(\"([A-Z]\\d{5})\\ncustomer-id\\s(\\d{4})\", text)\n",
    "re1 = [(i,j) for j,i in re1]\n",
    "re1.extend(re.findall(\"(\\d{4})\\n([A-Z]\\d{5})\", text))\n",
    "for i,j in sorted(re1):\n",
    "    print(f\"{i},{j}\")\n",
    "\n"
   ]
  },
  {
   "cell_type": "code",
   "execution_count": null,
   "metadata": {},
   "outputs": [],
   "source": []
  }
 ],
 "metadata": {
  "kernelspec": {
   "display_name": "Python 3",
   "language": "python",
   "name": "python3"
  },
  "language_info": {
   "codemirror_mode": {
    "name": "ipython",
    "version": 3
   },
   "file_extension": ".py",
   "mimetype": "text/x-python",
   "name": "python",
   "nbconvert_exporter": "python",
   "pygments_lexer": "ipython3",
   "version": "3.8.5"
  },
  "varInspector": {
   "cols": {
    "lenName": 16,
    "lenType": 16,
    "lenVar": 40
   },
   "kernels_config": {
    "python": {
     "delete_cmd_postfix": "",
     "delete_cmd_prefix": "del ",
     "library": "var_list.py",
     "varRefreshCmd": "print(var_dic_list())"
    },
    "r": {
     "delete_cmd_postfix": ") ",
     "delete_cmd_prefix": "rm(",
     "library": "var_list.r",
     "varRefreshCmd": "cat(var_dic_list()) "
    }
   },
   "types_to_exclude": [
    "module",
    "function",
    "builtin_function_or_method",
    "instance",
    "_Feature"
   ],
   "window_display": false
  }
 },
 "nbformat": 4,
 "nbformat_minor": 4
}
