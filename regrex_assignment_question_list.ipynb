{
  "nbformat": 4,
  "nbformat_minor": 0,
  "metadata": {
    "kernelspec": {
      "name": "python385jvsc74a57bd0dca0ade3e726a953b501b15e8e990130d2b7799f14cfd9f4271676035ebe5511",
      "display_name": "Python 3.8.5 64-bit ('anaconda3': virtualenv)"
    },
    "language_info": {
      "codemirror_mode": {
        "name": "ipython",
        "version": 3
      },
      "file_extension": ".py",
      "mimetype": "text/x-python",
      "name": "python",
      "nbconvert_exporter": "python",
      "pygments_lexer": "ipython3",
      "version": "3.8.5"
    },
    "toc": {
      "base_numbering": 1,
      "nav_menu": {},
      "number_sections": true,
      "sideBar": true,
      "skip_h1_title": false,
      "title_cell": "Table of Contents",
      "title_sidebar": "Contents",
      "toc_cell": false,
      "toc_position": {},
      "toc_section_display": true,
      "toc_window_display": false
    },
    "varInspector": {
      "cols": {
        "lenName": 16,
        "lenType": 16,
        "lenVar": 40
      },
      "kernels_config": {
        "python": {
          "delete_cmd_postfix": "",
          "delete_cmd_prefix": "del ",
          "library": "var_list.py",
          "varRefreshCmd": "print(var_dic_list())"
        },
        "r": {
          "delete_cmd_postfix": ") ",
          "delete_cmd_prefix": "rm(",
          "library": "var_list.r",
          "varRefreshCmd": "cat(var_dic_list()) "
        }
      },
      "types_to_exclude": [
        "module",
        "function",
        "builtin_function_or_method",
        "instance",
        "_Feature"
      ],
      "window_display": false
    },
    "colab": {
      "name": "regrex_assignment_question_list.ipynb",
      "provenance": []
    }
  },
  "cells": [
    {
      "cell_type": "markdown",
      "metadata": {
        "ExecuteTime": {
          "end_time": "2020-04-16T10:54:17.421983Z",
          "start_time": "2020-04-16T10:54:17.420520Z"
        },
        "id": "JZliXDBGeKQ4"
      },
      "source": [
        "###  search pattern brand and company  if found print found else print not found\n"
      ]
    },
    {
      "cell_type": "code",
      "metadata": {
        "ExecuteTime": {
          "end_time": "2020-04-16T12:09:47.817479Z",
          "start_time": "2020-04-16T12:09:47.815855Z"
        },
        "id": "i9vuxC4YeKQ-"
      },
      "source": [
        "text = 'Apple is a tech brand, not a fruit'"
      ],
      "execution_count": null,
      "outputs": []
    },
    {
      "cell_type": "markdown",
      "metadata": {
        "id": "Bu891nleeKQ-"
      },
      "source": [
        "### split the given text at @"
      ]
    },
    {
      "cell_type": "code",
      "metadata": {
        "id": "vuIBV97UeKQ_"
      },
      "source": [
        "phrase = 'the list of given email are harry@gmail.com , ron@hotmail.com'"
      ],
      "execution_count": null,
      "outputs": []
    },
    {
      "cell_type": "markdown",
      "metadata": {
        "ExecuteTime": {
          "end_time": "2020-04-16T11:36:21.549451Z",
          "start_time": "2020-04-16T11:36:21.546253Z"
        },
        "id": "BGNvPEj2eKQ_"
      },
      "source": [
        "### Remove the punctation from the given sentence"
      ]
    },
    {
      "cell_type": "code",
      "metadata": {
        "ExecuteTime": {
          "end_time": "2020-05-05T07:27:05.239331Z",
          "start_time": "2020-05-05T07:27:05.233406Z"
        },
        "id": "7XtW65kyeKQ_"
      },
      "source": [
        "test_phrase = 'hi! are you doing good?'\n"
      ],
      "execution_count": null,
      "outputs": []
    },
    {
      "cell_type": "markdown",
      "metadata": {
        "id": "yfc2wxTmeKQ_"
      },
      "source": [
        "### write a list of test pattern having a sequence of \n",
        "- lower case letter, \n",
        "- uppercase letter, \n",
        "- lower or upper \n",
        "- and one upper case followed by lower case"
      ]
    },
    {
      "cell_type": "code",
      "metadata": {
        "ExecuteTime": {
          "end_time": "2020-05-05T07:31:14.524139Z",
          "start_time": "2020-05-05T07:31:14.515697Z"
        },
        "id": "jcYbow0UeKQ_",
        "outputId": "fc385926-82bb-469b-f2d0-dab54c464983"
      },
      "source": [
        "import re\n",
        "test_phrase = 'Regex Is difficult to grasp in short period of time'\n",
        "#answer\n",
        "'''\n",
        "['egex', 's', 'difficult', 'to', 'grasp', 'in', 'short', 'period', 'of', 'time']\n",
        "\n",
        "['R', 'I']\n",
        "\n",
        "['Regex', 'Is', 'difficult', 'to', 'grasp', 'in', 'short', 'period', 'of', 'time']\n",
        "\n",
        "['Regex', 'Is']\n",
        "\n",
        "'''\n"
      ],
      "execution_count": null,
      "outputs": [
        {
          "output_type": "execute_result",
          "data": {
            "text/plain": [
              "\"\\n['egex', 's', 'difficult', 'to', 'grasp', 'in', 'short', 'period', 'of', 'time']\\n\\n['R', 'I']\\n\\n['Regex', 'Is', 'difficult', 'to', 'grasp', 'in', 'short', 'period', 'of', 'time']\\n\\n['Regex', 'Is']\\n\\n\""
            ]
          },
          "metadata": {
            "tags": []
          },
          "execution_count": 5
        }
      ]
    },
    {
      "cell_type": "markdown",
      "metadata": {
        "ExecuteTime": {
          "end_time": "2020-04-16T11:41:48.341581Z",
          "start_time": "2020-04-16T11:41:48.340108Z"
        },
        "id": "LZcUp3K5eKRA"
      },
      "source": [
        "### write a list of test pattern having a sequence \n",
        "- sequence of non-digits\n",
        "- sequence of whitespace\n",
        "- sequence of non-whitespace\n",
        "- alphanumeric characters\n",
        "- non-alphanumeric"
      ]
    },
    {
      "cell_type": "code",
      "metadata": {
        "ExecuteTime": {
          "end_time": "2020-05-05T07:31:35.002086Z",
          "start_time": "2020-05-05T07:31:35.000369Z"
        },
        "id": "HFwNJuAUeKRB"
      },
      "source": [
        "test_phrase = 'This is a string with some numbers 1233 and a symbol #hashtag'\n"
      ],
      "execution_count": null,
      "outputs": []
    },
    {
      "cell_type": "markdown",
      "metadata": {
        "id": "Uiac3hSPeKRB"
      },
      "source": [
        "### find the date from the given text"
      ]
    },
    {
      "cell_type": "code",
      "metadata": {
        "ExecuteTime": {
          "end_time": "2020-05-05T07:31:42.956012Z",
          "start_time": "2020-05-05T07:31:42.954342Z"
        },
        "id": "39NjJ5PNeKRB"
      },
      "source": [
        "text=\"is your birthday in 12-12-1992\""
      ],
      "execution_count": null,
      "outputs": []
    },
    {
      "cell_type": "markdown",
      "metadata": {
        "id": "CYzmhBrzeKRB"
      },
      "source": [
        "### write a regrex that find anything that start with bat"
      ]
    },
    {
      "cell_type": "code",
      "metadata": {
        "ExecuteTime": {
          "end_time": "2020-05-05T07:32:29.063027Z",
          "start_time": "2020-05-05T07:32:29.056597Z"
        },
        "id": "MYtfl96teKRB"
      },
      "source": [
        "text=\"Here comes the batman in batmobile\""
      ],
      "execution_count": null,
      "outputs": []
    },
    {
      "cell_type": "markdown",
      "metadata": {
        "id": "mxhBZh-EeKRB"
      },
      "source": [
        "### write a regrex that find all the word that end with 'at'"
      ]
    },
    {
      "cell_type": "code",
      "metadata": {
        "ExecuteTime": {
          "end_time": "2020-05-05T07:33:04.256124Z",
          "start_time": "2020-05-05T07:33:04.248943Z"
        },
        "id": "LUxfrCr0eKRC"
      },
      "source": [
        "text=\"The cat in the hat sat flat on the mat.\"\n"
      ],
      "execution_count": null,
      "outputs": []
    },
    {
      "cell_type": "markdown",
      "metadata": {
        "id": "EXNMYNoXeKRC"
      },
      "source": [
        "### find the fistname and the last name of the person"
      ]
    },
    {
      "cell_type": "code",
      "metadata": {
        "ExecuteTime": {
          "end_time": "2020-05-05T07:33:18.131772Z",
          "start_time": "2020-05-05T07:33:18.125624Z"
        },
        "id": "2LktR9PJeKRC"
      },
      "source": [
        "text=\"First Name: Travis Last Name: Baker\"\n"
      ],
      "execution_count": null,
      "outputs": []
    },
    {
      "cell_type": "markdown",
      "metadata": {
        "id": "wgrbI95ieKRC"
      },
      "source": [
        " ### find all the words with an internal o. "
      ]
    },
    {
      "cell_type": "code",
      "metadata": {
        "ExecuteTime": {
          "end_time": "2020-05-05T07:35:10.379986Z",
          "start_time": "2020-05-05T07:35:10.373343Z"
        },
        "id": "BD7MYSFFeKRC"
      },
      "source": [
        "text=\"the quick brown fox over \""
      ],
      "execution_count": null,
      "outputs": []
    },
    {
      "cell_type": "code",
      "metadata": {
        "ExecuteTime": {
          "end_time": "2020-05-05T07:33:46.447241Z",
          "start_time": "2020-05-05T07:33:46.434654Z"
        },
        "id": "C5AOF3z0eKRC"
      },
      "source": [
        ""
      ],
      "execution_count": null,
      "outputs": []
    },
    {
      "cell_type": "markdown",
      "metadata": {
        "id": "FroRY7dweKRC"
      },
      "source": [
        "### find that begin or end with o\n",
        "\n"
      ]
    },
    {
      "cell_type": "code",
      "metadata": {
        "ExecuteTime": {
          "end_time": "2020-05-05T07:35:35.271053Z",
          "start_time": "2020-05-05T07:35:35.264895Z"
        },
        "id": "4qKHe06ieKRD"
      },
      "source": [
        "text=\"quick brown fox jumps over a lazy dog\""
      ],
      "execution_count": null,
      "outputs": []
    },
    {
      "cell_type": "markdown",
      "metadata": {
        "ExecuteTime": {
          "end_time": "2020-04-16T11:59:47.048687Z",
          "start_time": "2020-04-16T11:59:47.047215Z"
        },
        "id": "hllW0DcveKRD"
      },
      "source": [
        "### print the answer inthe given format . hint use re.sub\n",
        "'The quick =brown= =fox=  jumped =over= the lazy =dog= '\n"
      ]
    },
    {
      "cell_type": "code",
      "metadata": {
        "ExecuteTime": {
          "end_time": "2020-05-05T07:36:20.922082Z",
          "start_time": "2020-05-05T07:36:20.916138Z"
        },
        "id": "ZpH13yJEeKRD"
      },
      "source": [
        "text=\"the quick brown fox jumped over the lazy dog\""
      ],
      "execution_count": null,
      "outputs": []
    },
    {
      "cell_type": "markdown",
      "metadata": {
        "ExecuteTime": {
          "end_time": "2020-04-16T12:02:09.298956Z",
          "start_time": "2020-04-16T12:02:09.297540Z"
        },
        "id": "5qK9rHdseKRD"
      },
      "source": [
        "### get the month from the given text"
      ]
    },
    {
      "cell_type": "code",
      "metadata": {
        "ExecuteTime": {
          "end_time": "2020-05-05T07:38:48.391442Z",
          "start_time": "2020-05-05T07:38:48.389504Z"
        },
        "id": "fnBXcUzweKRD"
      },
      "source": [
        "text=\"bill gate was born in 28-10-1955 and will was born in 1-02-2000\"\n"
      ],
      "execution_count": null,
      "outputs": []
    },
    {
      "cell_type": "markdown",
      "metadata": {
        "ExecuteTime": {
          "end_time": "2020-04-16T12:04:56.638562Z",
          "start_time": "2020-04-16T12:04:56.633354Z"
        },
        "id": "mzlNbYIjeKRD"
      },
      "source": [
        "### splits before every o"
      ]
    },
    {
      "cell_type": "code",
      "metadata": {
        "ExecuteTime": {
          "end_time": "2020-05-05T07:39:13.753000Z",
          "start_time": "2020-05-05T07:39:13.750958Z"
        },
        "id": "JzY2DzeqeKRD"
      },
      "source": [
        "text=\"python is an object oriented langugae\"\n"
      ],
      "execution_count": null,
      "outputs": []
    },
    {
      "cell_type": "markdown",
      "metadata": {
        "ExecuteTime": {
          "end_time": "2020-04-16T12:18:48.527842Z",
          "start_time": "2020-04-16T12:18:48.525964Z"
        },
        "id": "Auk98VkWeKRE"
      },
      "source": [
        "### write a pattern that find dogs and dog"
      ]
    },
    {
      "cell_type": "code",
      "metadata": {
        "ExecuteTime": {
          "end_time": "2020-05-05T07:39:33.260903Z",
          "start_time": "2020-05-05T07:39:33.257158Z"
        },
        "id": "NTFX7U6WeKRE"
      },
      "source": [
        "\n",
        "test_string = \"I like dogs but my dog doesn't like me.\"\n"
      ],
      "execution_count": null,
      "outputs": []
    },
    {
      "cell_type": "markdown",
      "metadata": {
        "id": "7JCFsAEfeKRE"
      },
      "source": [
        "### Find all the p's and q's in the test string below."
      ]
    },
    {
      "cell_type": "code",
      "metadata": {
        "ExecuteTime": {
          "end_time": "2020-05-05T07:40:06.938333Z",
          "start_time": "2020-05-05T07:40:06.931681Z"
        },
        "id": "ftP8bW83eKRE"
      },
      "source": [
        "\n",
        "test_string = \"Quick, pizzaz shop is closing. Is this a path to queensland?\"\n"
      ],
      "execution_count": null,
      "outputs": []
    },
    {
      "cell_type": "markdown",
      "metadata": {
        "id": "hSc3aQGseKRE"
      },
      "source": [
        "### find everything except t in word"
      ]
    },
    {
      "cell_type": "code",
      "metadata": {
        "ExecuteTime": {
          "end_time": "2020-05-05T07:40:11.055044Z",
          "start_time": "2020-05-05T07:40:11.053195Z"
        },
        "id": "2OBBlzF-eKRE"
      },
      "source": [
        "test_string = 'the quick brown fox jumped over the lazy dog'"
      ],
      "execution_count": null,
      "outputs": []
    },
    {
      "cell_type": "code",
      "metadata": {
        "ExecuteTime": {
          "end_time": "2020-04-16T12:21:51.998508Z",
          "start_time": "2020-04-16T12:21:51.995926Z"
        },
        "id": "wBuVnW6neKRE"
      },
      "source": [
        ""
      ],
      "execution_count": null,
      "outputs": []
    },
    {
      "cell_type": "markdown",
      "metadata": {
        "id": "cxgAPBXReKRF"
      },
      "source": [
        "### Find all the ^ characters in the following test sentence."
      ]
    },
    {
      "cell_type": "code",
      "metadata": {
        "ExecuteTime": {
          "end_time": "2020-05-05T07:40:35.794030Z",
          "start_time": "2020-05-05T07:40:35.787348Z"
        },
        "id": "tFqfXwpSeKRF"
      },
      "source": [
        "\n",
        "\n",
        "test_string = \"\"\"You can match the characters not listed within the class by complementing the set. \n",
        "\n",
        "This is indicated by including a ^ as the first character of the class; \n",
        "\n",
        "^ outside a character class will simply match the ^ character. \n",
        "\n",
        "For example, [^5] will match any character except 5.\"\"\"\n",
        "\n"
      ],
      "execution_count": null,
      "outputs": []
    },
    {
      "cell_type": "markdown",
      "metadata": {
        "id": "4-fR87Q9eKRF"
      },
      "source": [
        "### Find all three digit prices in the following test sentence. "
      ]
    },
    {
      "cell_type": "code",
      "metadata": {
        "ExecuteTime": {
          "end_time": "2020-05-05T07:40:52.997044Z",
          "start_time": "2020-05-05T07:40:52.990956Z"
        },
        "id": "2QT4VK6BeKRF"
      },
      "source": [
        "\n",
        "\n",
        "test_string = 'The Mac book cost over $999, while the windows system can be bought for less than $550.'\n",
        "\n"
      ],
      "execution_count": null,
      "outputs": []
    },
    {
      "cell_type": "markdown",
      "metadata": {
        "id": "EJFoLAp0eKRF"
      },
      "source": [
        "### Find all prices in the following test sentence."
      ]
    },
    {
      "cell_type": "code",
      "metadata": {
        "ExecuteTime": {
          "end_time": "2020-05-05T07:42:17.697230Z",
          "start_time": "2020-05-05T07:42:17.695569Z"
        },
        "id": "YQv1o_BDeKRF"
      },
      "source": [
        "\n",
        "\n",
        "test_string = \"\"\"The iPhone X costs over $999, while the Android cost around $550.\n",
        "\n",
        "Apple's MacBook Pro costs $1200, while razer blade cost $2500.\n",
        "\n",
        "A new charger for iphone cost over $30.\n",
        "\n",
        "Bose headphone cost around $390\n",
        "\n",
        "\"\"\"\n"
      ],
      "execution_count": null,
      "outputs": []
    },
    {
      "cell_type": "markdown",
      "metadata": {
        "id": "7LJa58vQeKRF"
      },
      "source": [
        "### find all the better in the given text"
      ]
    },
    {
      "cell_type": "code",
      "metadata": {
        "ExecuteTime": {
          "end_time": "2020-05-05T07:42:24.031634Z",
          "start_time": "2020-05-05T07:42:24.025253Z"
        },
        "id": "91LIKbI9eKRF"
      },
      "source": [
        "robot_string = '''The Zen of Python, by Tim Peters\n",
        "\n",
        "Beautiful is better than ugly.\n",
        "Explicit is better than implicit.\n",
        "Simple is better than complex.\n",
        "Complex is better than complicated.\n",
        "Flat is better than nested.\n",
        "Sparse is better than dense.\n",
        "Readability counts.\n",
        "Special cases aren't special enough to break the rules.\n",
        "Although practicality beats purity.\n",
        "Errors should never pass silently.\n",
        "Unless explicitly silenced.\n",
        "In the face of ambiguity, refuse the temptation to guess.\n",
        "There should be one-- and preferably only one --obvious way to do it.\n",
        "Although that way may not be obvious at first unless you're Dutch.\n",
        "Now is better than never.\n",
        "Although never is often better than *right* now.\n",
        "If the implementation is hard to explain, it's a bad idea.\n",
        "If the implementation is easy to explain, it may be a good idea.\n",
        "Namespaces are one honking great idea -- let's do more of those!\n",
        "'''"
      ],
      "execution_count": null,
      "outputs": []
    },
    {
      "cell_type": "code",
      "metadata": {
        "ExecuteTime": {
          "end_time": "2020-04-16T12:27:05.348576Z",
          "start_time": "2020-04-16T12:27:05.344417Z"
        },
        "id": "MKn2XMYEeKRG"
      },
      "source": [
        ""
      ],
      "execution_count": null,
      "outputs": []
    },
    {
      "cell_type": "markdown",
      "metadata": {
        "id": "jGe45j3KeKRG"
      },
      "source": [
        "### find the word that start with bat and end with man"
      ]
    },
    {
      "cell_type": "code",
      "metadata": {
        "ExecuteTime": {
          "end_time": "2020-05-05T07:42:44.473635Z",
          "start_time": "2020-05-05T07:42:44.472084Z"
        },
        "id": "vrLCPIJBeKRG"
      },
      "source": [
        "test_string = 'Batman is the best movies, batwoman never herad about it.'\n",
        "\n"
      ],
      "execution_count": null,
      "outputs": []
    },
    {
      "cell_type": "markdown",
      "metadata": {
        "id": "DfF1BK2EeKRG"
      },
      "source": [
        "### remove the year form the given list\n"
      ]
    },
    {
      "cell_type": "code",
      "metadata": {
        "ExecuteTime": {
          "end_time": "2020-05-05T07:42:55.933429Z",
          "start_time": "2020-05-05T07:42:55.926616Z"
        },
        "id": "dbH-xM6weKRG"
      },
      "source": [
        "\n",
        "str=\"Another You (1991-2000)\"\n"
      ],
      "execution_count": null,
      "outputs": []
    },
    {
      "cell_type": "markdown",
      "metadata": {
        "id": "FICQthpWeKRG"
      },
      "source": [
        "### write a regex to find the url_name only"
      ]
    },
    {
      "cell_type": "code",
      "metadata": {
        "id": "xMw9bpVleKRH"
      },
      "source": [
        "name=\"http://www.google-map.com\" # >>>google-map output"
      ],
      "execution_count": null,
      "outputs": []
    },
    {
      "cell_type": "code",
      "metadata": {
        "id": "OjBQ06A9eKRH"
      },
      "source": [
        ""
      ],
      "execution_count": null,
      "outputs": []
    },
    {
      "cell_type": "code",
      "metadata": {
        "id": "4Q-WG-KTeKRH"
      },
      "source": [
        ""
      ],
      "execution_count": null,
      "outputs": []
    },
    {
      "cell_type": "code",
      "metadata": {
        "id": "b9v5vOx8eKRH"
      },
      "source": [
        "doc=[\"Lenovo IdeaPad S145 Laptop 39,6 cm (15,6 Zoll, 1920x1080, FHD, matt) Slim Notebook (Intel Pentium N5000, 8 GB RAM, 512 GB SSD, Intel UHD-Grafik 605, Windows 10 Home) schwarz\",\n",
        "\"HP Notebook (15,6 Zoll), HD Display, AMD A4 2 x 2.50 GHz, 8 GB RAM, 256 GB SSD, HDMI, AMD R3 Grafik, Webcam, Windows 10 Pro\",\n",
        "'Neu Apple MacBook Air (13\", 1,1 GHz dual-core Intel Core i3 Prozessor der 10. Generation, 8 GB RAM, 256 GB) - Silber',\n",
        "'Lenovo (17,3 Zoll) Notebook (Intel Pentium 5405U 4-Thread CPU, 2.30 GHz, 8GB DDR4 RAM, 256GB SSD, 1000GB, DVD±RW, Intel HD, HDMI, Webcam, Bluetooth, USB3.0, WLAN, Win 10 Prof. 64, MS Office) #6477'\n",
        "]"
      ],
      "execution_count": null,
      "outputs": []
    },
    {
      "cell_type": "markdown",
      "metadata": {
        "id": "ORYOCz48eKRI"
      },
      "source": [
        "use regrex  to find the size of the screen "
      ]
    },
    {
      "cell_type": "markdown",
      "metadata": {
        "id": "fBr49W0BeKRI"
      },
      "source": [
        "use regrex to find the type of laptop eg: notebook "
      ]
    },
    {
      "cell_type": "markdown",
      "metadata": {
        "id": "qjsUbwTqeKRI"
      },
      "source": [
        "find the type of display "
      ]
    },
    {
      "cell_type": "markdown",
      "metadata": {
        "id": "PZR9Kg2LeKRI"
      },
      "source": [
        "find the disk capacity size"
      ]
    },
    {
      "cell_type": "markdown",
      "metadata": {
        "id": "JM7t_yAreKRI"
      },
      "source": [
        "### write a expressoion to get a name and phonenumber for the person whose name start with j and end with neu"
      ]
    },
    {
      "cell_type": "code",
      "metadata": {
        "id": "z568USSu66Iw"
      },
      "source": [
        "phones=\"\"\"Earn Cash For Your Teeth 555-6312\n",
        "Family Therapy Center 555-HUGS\n",
        "Homer Jay Simpson (Plow King episode) 555-3223\n",
        "Homer Jay Simpson (work) 555-7334\n",
        "Jack Neu 555-7666\n",
        "Jeb Neu 555-5543\n",
        "Jennifer Neu 555-3652\n",
        "Ken Neu 555-8752\n",
        "Lionel Putz 555-5299\n",
        "MAD Magazine 555-8628\n",
        "Marital Street Hotline 555-1680\n",
        "Marvin Monroe 555-3700\n",
        "Marvin Monroe's radio therapy show 555-PAIN\n",
        "Moe Szyslak (phone number spells SMITHERS) 7648-4377\n",
        "Moe Szyslak 555-0000\n",
        "Moe's Tavern 555-1239\n",
        "Mr. Plow 555-3226\"\"\""
      ],
      "execution_count": null,
      "outputs": []
    },
    {
      "cell_type": "markdown",
      "metadata": {
        "id": "lafOBE7C66Iw"
      },
      "source": [
        "### from  the given input find the  month either feb or feburary and the year \n",
        "- output[('February', '2011'), ('Feb', '2012'), ('Feb', '2016')]\n"
      ]
    },
    {
      "cell_type": "code",
      "metadata": {
        "id": "uDHNuSvu66Ix"
      },
      "source": [
        "year=\" February 2011 and Feb 2012 was the worst year the Feb 2016\""
      ],
      "execution_count": null,
      "outputs": []
    },
    {
      "cell_type": "markdown",
      "metadata": {
        "id": "fGwVoTB-66Ix"
      },
      "source": [
        "### from the given  tag get the text as:\n",
        "```\n",
        "composer:  steven wilson \n",
        "author:  wilson \n",
        "city:  kingston \n",
        "band: porcupine tree\n",
        "song: Yellow Hedgerow Dreamscape\n",
        "```"
      ]
    },
    {
      "cell_type": "code",
      "metadata": {
        "id": "P-hZG5XU66Ix"
      },
      "source": [
        "a=\"\"\"<composer> steven wilson </composer>\n",
        "    <author> wilson </author>\n",
        "    <city> kingston </city>\n",
        "    <band>porcupine tree</band>\n",
        "    <song>Yellow Hedgerow Dreamscape</song>\"\"\"\n"
      ],
      "execution_count": null,
      "outputs": []
    },
    {
      "cell_type": "markdown",
      "metadata": {
        "id": "er7XdhwJ66Ix"
      },
      "source": [
        "### from the given list of string print get the output as \n",
        "```\n",
        "llison Neu 99-12332-213123\n",
        "Lionel Messi 123-5435-453534\n",
        "Mark zukerberg 555-5299-32\n",
        "Homer Jay Simpson 55-7334-324\n",
        "```\n",
        "using regex\n",
        "hint: user a grouping from re.search method"
      ]
    },
    {
      "cell_type": "code",
      "metadata": {
        "id": "z3hNjT6c66Ix"
      },
      "source": [
        "l = [\"99-12332-213123 Neu, Allison\", \n",
        "     \" 123-5435-453534 Messi, Lionel\", \n",
        "     \"555-5299-32 zukerberg, Mark\",\n",
        "     \"55-7334-324 Simpson, Homer Jay\"]"
      ],
      "execution_count": null,
      "outputs": []
    },
    {
      "cell_type": "markdown",
      "metadata": {
        "id": "h0FB3Y7d66Ix"
      },
      "source": [
        "### from the given string use a named capturing group to get the the hour,min,sec ."
      ]
    },
    {
      "cell_type": "code",
      "metadata": {
        "id": "2dz0LvXE66Ix"
      },
      "source": [
        "s = \"Sun Oct 14 12:48:13 CEST 2021\""
      ],
      "execution_count": null,
      "outputs": []
    },
    {
      "cell_type": "markdown",
      "metadata": {
        "id": "FKPzh0s866Iy"
      },
      "source": [
        "### from the given string get the cities name only and append it in a list"
      ]
    },
    {
      "cell_type": "code",
      "metadata": {
        "id": "UFFmbw4366Iy"
      },
      "source": [
        "cities=\"\"\"1.  Berlin          3.382.169 Berlin\n",
        "2.  Hamburg         1.715.392 Hamburg\n",
        "3.  München         1.210.223 Bayern\n",
        "4.  Köln              962.884 Nordrhein-Westfalen\n",
        "5.  Frankfurt am Main 646.550 Hessen\n",
        "6.  Essen             595.243 Nordrhein-Westfalen\n",
        "7.  Dortmund          588.994 Nordrhein-Westfalen\n",
        "8.  Stuttgart         583.874 Baden-Württemberg\n",
        "9.  Düsseldorf        569.364 Nordrhein-Westfalen\n",
        "10. Bremen            539.403 Bremen\n",
        "11. Hannover          515.001 Niedersachsen\n",
        "12. Duisburg          514.915 Nordrhein-Westfalen\n",
        "13. Leipzig           493.208 Sachsen\n",
        "14. Nürnberg          488.400 Bayern\n",
        "15. Dresden           477.807 Sachsen\n",
        "16. Bochum            391.147 Nordrhein-Westfalen\n",
        "17. Wuppertal         366.434 Nordrhein-Westfalen\n",
        "18. Bielefeld         321.758 Nordrhein-Westfalen\n",
        "19. Mannheim          306.729 Baden-Württemberg\"\"\"\n"
      ],
      "execution_count": null,
      "outputs": []
    },
    {
      "cell_type": "markdown",
      "metadata": {
        "id": "uV-2LFIy66Iy"
      },
      "source": [
        "### open a file code.txt and search for all the city and  post code in the a text file . \n",
        " - use context manager (with ) keyword to open file\n",
        " - since the same city will have a many postal code \n",
        " - create a dictionary where it will add all the postal code of the same city eg:\n",
        " ````\n",
        "' Aachen': {' 52070 ', ' 52074 ', ' 52066 ', ' 52072 ', ' 52064 ', ' 52068 ', ' 52080 ', ' 52076 ', ' 52078 ', ' 52062 '},\n",
        "```\n",
        "output: use the question above to get the top 19 cities postal code only. "
      ]
    },
    {
      "cell_type": "markdown",
      "metadata": {
        "id": "NLUwn3eV66Iy"
      },
      "source": [
        ""
      ]
    },
    {
      "cell_type": "markdown",
      "metadata": {
        "id": "vhNjMiCP66Iy"
      },
      "source": [
        "### write a program that recoginzes the postal code or not\n",
        "https://en.wikipedia.org/wiki/Postcodes_in_the_United_Kingdom#:~:text=The%20outward%20code%20includes%20the,%2C%20and%20%22L1%208JQ%22.\n",
        "\n",
        "eg:\n",
        "```\n",
        "N1 9GU matched!\n",
        "E98 1TT matched!\n",
        "TIM E22 is not a valid postcode!\n",
        "A B1 A22 is not a valid postcode!\n",
        "EC2N 2DB matched!"
      ]
    },
    {
      "cell_type": "code",
      "metadata": {
        "id": "FhToAKcw66Iy"
      },
      "source": [
        "codes = [\"SW1A 0AA\", # House of Commons\n",
        "                \"BS40 5AA \", # bristol\n",
        "                \"CB6 1AA\",#cambridge\n",
        "                \"CB2 1TN\",#cambdrige uni\n",
        "                 \"SW1A 1AA\", # Buckingham Palace\n",
        "                 \"SW1A 2AA\", # Downing Street\n",
        "                 \"DH98 1BT\", # British Telecom\n",
        "                 \"OX1 2JD\",#oxford\n",
        "                 \"N1 9GU\", # Guardian Newspaper\n",
        "                 \"E98 1TT\", # The Times\n",
        "                 \"TIM E22\", # a fake postcode\n",
        "                 \"A B1 A22\", # not a valid postcode\n",
        "                 \"EC2N 2DB\", # Deutsche Bank\n",
        "                 \"SE9 2UG\", # University of Greenwhich\n",
        "                 \"N1 0UY\", # Islington, London\n",
        "                 \"EC1V 8DS\", # Clerkenwell, London\n",
        "                 \"WC1X 9DT\", # WC1X 9DT\n",
        "                 \"B42 1LG\", # Birmingham\n",
        "                 \"B28 9AD\", # Birmingham\n",
        "                 \"W12 7RJ\", # London, BBC News Centre\n",
        "                 \"BBC 017\" ,# a fake postcode\n",
        "                 \"JAM 001\", #fake\n",
        "                 \"BD7 1DP\",#bradford uni\n",
        "                 \"JCK 4DA\", #not valid\n",
        "                 \n",
        "                ]"
      ],
      "execution_count": null,
      "outputs": []
    },
    {
      "cell_type": "markdown",
      "metadata": {
        "id": "hDaLPLWP66Iy"
      },
      "source": [
        "### write a expression to get first name , last name and position\n",
        "\n",
        "hint:you can use re.split"
      ]
    },
    {
      "cell_type": "code",
      "metadata": {
        "id": "m5PUVJKS66Iz"
      },
      "source": [
        "lines = [\"surname: Trump, prename: Donald, profession: ex.president\", \n",
        "\"surname: Merkel, prename: Angela, profession: chancellor\",\n",
        "\"surname: Biden , prename: joe , profession: president\",\n",
        "\"surname: musk prename: elon, profession: enturperuner\"]"
      ],
      "execution_count": null,
      "outputs": []
    },
    {
      "cell_type": "markdown",
      "metadata": {
        "id": "5O-aDaQ666Iz"
      },
      "source": [
        "### from a given text write a expression to get the \n",
        "```\n",
        "1289,T83456\n",
        "\n",
        "1289,Z22334\n",
        "\n",
        "1205,T10032\n",
        "\n",
        "1205,B77301\n",
        "\n",
        "1205,T10786\n",
        "\n",
        "1205,C77502\n",
        "\n",
        "1410,K34001\n",
        "\n",
        "1410,T98987\n",
        "```"
      ]
    },
    {
      "cell_type": "code",
      "metadata": {
        "id": "SZSORA7V66Iz"
      },
      "source": [
        "text=\"\"\"customer-id 1111\n",
        "T93923\n",
        "customer-id 1111\n",
        "customer-id 1223\n",
        "T10321\n",
        "B71313\n",
        "customer-id 1223\n",
        "customer-id 1410\n",
        "K34001\n",
        "T98987\n",
        "customer-id 1410\n",
        "customer-id 1223\n",
        "T10786\n",
        "C77502\n",
        "customer-id 1225\n",
        "customer-id 1289\n",
        "Z22334\n",
        "customer-id 1289\"\"\""
      ],
      "execution_count": null,
      "outputs": []
    },
    {
      "cell_type": "code",
      "metadata": {
        "id": "Qr-aQoun66Iz"
      },
      "source": [
        ""
      ],
      "execution_count": null,
      "outputs": []
    }
  ]
}